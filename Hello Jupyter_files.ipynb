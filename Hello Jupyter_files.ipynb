{
 "cells": [
  {
   "cell_type": "markdown",
   "id": "83864e7c",
   "metadata": {},
   "source": [
    "example_url = \"Example1.txt\"\n",
    "file1 = open(example_url, \"r\")"
   ]
  },
  {
   "cell_type": "code",
   "execution_count": 10,
   "id": "051955e5",
   "metadata": {},
   "outputs": [
    {
     "data": {
      "text/plain": [
       "'Example1.txt'"
      ]
     },
     "execution_count": 10,
     "metadata": {},
     "output_type": "execute_result"
    }
   ],
   "source": [
    "file1.name"
   ]
  },
  {
   "cell_type": "code",
   "execution_count": 11,
   "id": "915d5925",
   "metadata": {},
   "outputs": [
    {
     "data": {
      "text/plain": [
       "'r'"
      ]
     },
     "execution_count": 11,
     "metadata": {},
     "output_type": "execute_result"
    }
   ],
   "source": [
    "file1.mode"
   ]
  },
  {
   "cell_type": "code",
   "execution_count": 12,
   "id": "2e0ed6a3",
   "metadata": {},
   "outputs": [],
   "source": [
    "fileContent = file1.read()"
   ]
  },
  {
   "cell_type": "code",
   "execution_count": 13,
   "id": "916853b7",
   "metadata": {},
   "outputs": [
    {
     "name": "stdout",
     "output_type": "stream",
     "text": [
      "This is line 1 \n",
      "This is line 2\n",
      "This is line 3\n"
     ]
    }
   ],
   "source": [
    "print(fileContent)"
   ]
  },
  {
   "cell_type": "code",
   "execution_count": 14,
   "id": "349bc3bc",
   "metadata": {},
   "outputs": [],
   "source": [
    "file1.close()"
   ]
  },
  {
   "cell_type": "code",
   "execution_count": 15,
   "id": "519992b3",
   "metadata": {},
   "outputs": [
    {
     "data": {
      "text/plain": [
       "<function TextIOWrapper.close()>"
      ]
     },
     "execution_count": 15,
     "metadata": {},
     "output_type": "execute_result"
    }
   ],
   "source": [
    "file1.close"
   ]
  },
  {
   "cell_type": "code",
   "execution_count": 19,
   "id": "225c7a4a",
   "metadata": {},
   "outputs": [
    {
     "name": "stdout",
     "output_type": "stream",
     "text": [
      "This is line 1 \n",
      "This is line 2\n",
      "This is line 3\n"
     ]
    }
   ],
   "source": [
    "with open (example_url, \"r\") as file1:\n",
    "    FileContent = file1.read()\n",
    "    print(FileContent)"
   ]
  },
  {
   "cell_type": "code",
   "execution_count": 23,
   "id": "d648bc42",
   "metadata": {},
   "outputs": [
    {
     "data": {
      "text/plain": [
       "True"
      ]
     },
     "execution_count": 23,
     "metadata": {},
     "output_type": "execute_result"
    }
   ],
   "source": [
    "file1.closed"
   ]
  },
  {
   "cell_type": "code",
   "execution_count": 25,
   "id": "7809b298",
   "metadata": {},
   "outputs": [
    {
     "name": "stdout",
     "output_type": "stream",
     "text": [
      "This\n",
      "comercial break... \n",
      " is \n"
     ]
    }
   ],
   "source": [
    "with open (example_url, \"r\") as file1:\n",
    "    FileContent = file1.read(4)\n",
    "    print(FileContent)\n",
    "    print(\"comercial break... \\n\" + file1.read(4))"
   ]
  },
  {
   "cell_type": "code",
   "execution_count": 27,
   "id": "5f7ed25f",
   "metadata": {},
   "outputs": [
    {
     "name": "stdout",
     "output_type": "stream",
     "text": [
      "This is line 1 \n",
      "\n",
      "comercial break... \n",
      "This is line 2\n",
      "\n"
     ]
    }
   ],
   "source": [
    "with open (example_url, \"r\") as file1:\n",
    "    FileContent = file1.readline()\n",
    "    print(FileContent)\n",
    "    print(\"comercial break... \\n\" + file1.readline())"
   ]
  },
  {
   "cell_type": "code",
   "execution_count": 31,
   "id": "4af1ecd0",
   "metadata": {},
   "outputs": [
    {
     "name": "stdout",
     "output_type": "stream",
     "text": [
      "Iteration 0 : This is line 1 \n",
      "\n",
      "Iteration 1 : This is line 2\n",
      "\n",
      "Iteration 2 : This is line 3\n"
     ]
    }
   ],
   "source": [
    "with open(example_url, \"r\") as file1:\n",
    "    i = 0;\n",
    "    for line in file1:\n",
    "        print(\"Iteration\", str(i), \":\", line)\n",
    "        i += 1"
   ]
  },
  {
   "cell_type": "code",
   "execution_count": 32,
   "id": "04fc5e5c",
   "metadata": {},
   "outputs": [
    {
     "name": "stdout",
     "output_type": "stream",
     "text": [
      "Iteration 0 :  This is line 1 \n",
      "\n",
      "Iteration 1 :  This is line 2\n",
      "\n",
      "Iteration 2 :  This is line 3\n"
     ]
    }
   ],
   "source": [
    "with open(example_url, \"r\") as file1:\n",
    "    i = 0;\n",
    "    for line in file1:\n",
    "        print(\"Iteration\", str(i), \": \", line)\n",
    "        i += 1"
   ]
  },
  {
   "cell_type": "code",
   "execution_count": 33,
   "id": "e7838e19",
   "metadata": {},
   "outputs": [
    {
     "name": "stdout",
     "output_type": "stream",
     "text": [
      "This is line 1 \n",
      "\n"
     ]
    }
   ],
   "source": [
    "with open(example_url, \"r\") as file1:\n",
    "    FileasList = file1.readlines()\n",
    "    print(FileasList[0])"
   ]
  },
  {
   "cell_type": "code",
   "execution_count": null,
   "id": "5c44fb42",
   "metadata": {},
   "outputs": [],
   "source": []
  }
 ],
 "metadata": {
  "kernelspec": {
   "display_name": "Python 3",
   "language": "python",
   "name": "python3"
  },
  "language_info": {
   "codemirror_mode": {
    "name": "ipython",
    "version": 3
   },
   "file_extension": ".py",
   "mimetype": "text/x-python",
   "name": "python",
   "nbconvert_exporter": "python",
   "pygments_lexer": "ipython3",
   "version": "3.9.5"
  }
 },
 "nbformat": 4,
 "nbformat_minor": 5
}
